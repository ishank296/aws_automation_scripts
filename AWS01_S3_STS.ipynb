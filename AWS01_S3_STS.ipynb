{
  "nbformat": 4,
  "nbformat_minor": 0,
  "metadata": {
    "colab": {
      "name": "AWS01_S3_STS.ipynb",
      "provenance": [],
      "collapsed_sections": [],
      "authorship_tag": "ABX9TyN1jrITPhbntEmlMsuRlEBj",
      "include_colab_link": true
    },
    "kernelspec": {
      "name": "python3",
      "display_name": "Python 3"
    },
    "language_info": {
      "name": "python"
    }
  },
  "cells": [
    {
      "cell_type": "markdown",
      "metadata": {
        "id": "view-in-github",
        "colab_type": "text"
      },
      "source": [
        "<a href=\"https://colab.research.google.com/github/ishank296/aws_automation_scripts/blob/main/AWS01_S3_STS.ipynb\" target=\"_parent\"><img src=\"https://colab.research.google.com/assets/colab-badge.svg\" alt=\"Open In Colab\"/></a>"
      ]
    },
    {
      "cell_type": "markdown",
      "source": [
        "**Install Boto3 library:A python package to call aws apis**"
      ],
      "metadata": {
        "id": "nH6HstEAKFMF"
      }
    },
    {
      "cell_type": "code",
      "execution_count": 1,
      "metadata": {
        "colab": {
          "base_uri": "https://localhost:8080/"
        },
        "id": "kVlBQ-xJMBkX",
        "outputId": "f89b88f9-39ae-4a23-83ed-e338220cbfac"
      },
      "outputs": [
        {
          "output_type": "stream",
          "name": "stdout",
          "text": [
            "Looking in indexes: https://pypi.org/simple, https://us-python.pkg.dev/colab-wheels/public/simple/\n",
            "Collecting boto3\n",
            "  Downloading boto3-1.23.9-py3-none-any.whl (132 kB)\n",
            "\u001b[K     |████████████████████████████████| 132 kB 7.5 MB/s \n",
            "\u001b[?25hCollecting jmespath<2.0.0,>=0.7.1\n",
            "  Downloading jmespath-1.0.0-py3-none-any.whl (23 kB)\n",
            "Collecting botocore<1.27.0,>=1.26.9\n",
            "  Downloading botocore-1.26.9-py3-none-any.whl (8.8 MB)\n",
            "\u001b[K     |████████████████████████████████| 8.8 MB 59.9 MB/s \n",
            "\u001b[?25hCollecting s3transfer<0.6.0,>=0.5.0\n",
            "  Downloading s3transfer-0.5.2-py3-none-any.whl (79 kB)\n",
            "\u001b[K     |████████████████████████████████| 79 kB 9.2 MB/s \n",
            "\u001b[?25hRequirement already satisfied: python-dateutil<3.0.0,>=2.1 in /usr/local/lib/python3.7/dist-packages (from botocore<1.27.0,>=1.26.9->boto3) (2.8.2)\n",
            "Collecting urllib3<1.27,>=1.25.4\n",
            "  Downloading urllib3-1.26.9-py2.py3-none-any.whl (138 kB)\n",
            "\u001b[K     |████████████████████████████████| 138 kB 73.8 MB/s \n",
            "\u001b[?25hRequirement already satisfied: six>=1.5 in /usr/local/lib/python3.7/dist-packages (from python-dateutil<3.0.0,>=2.1->botocore<1.27.0,>=1.26.9->boto3) (1.15.0)\n",
            "Installing collected packages: urllib3, jmespath, botocore, s3transfer, boto3\n",
            "  Attempting uninstall: urllib3\n",
            "    Found existing installation: urllib3 1.24.3\n",
            "    Uninstalling urllib3-1.24.3:\n",
            "      Successfully uninstalled urllib3-1.24.3\n",
            "\u001b[31mERROR: pip's dependency resolver does not currently take into account all the packages that are installed. This behaviour is the source of the following dependency conflicts.\n",
            "requests 2.23.0 requires urllib3!=1.25.0,!=1.25.1,<1.26,>=1.21.1, but you have urllib3 1.26.9 which is incompatible.\n",
            "datascience 0.10.6 requires folium==0.2.1, but you have folium 0.8.3 which is incompatible.\u001b[0m\n",
            "Successfully installed boto3-1.23.9 botocore-1.26.9 jmespath-1.0.0 s3transfer-0.5.2 urllib3-1.26.9\n"
          ]
        }
      ],
      "source": [
        "!pip3 install boto3"
      ]
    },
    {
      "cell_type": "markdown",
      "source": [
        "**Accessing any AWS service by creating client object**"
      ],
      "metadata": {
        "id": "d5m4iwckKQ3f"
      }
    },
    {
      "cell_type": "code",
      "source": [
        "import boto3\n",
        "s3 = boto3.client('s3')"
      ],
      "metadata": {
        "id": "t5BSIofQMuaS"
      },
      "execution_count": 2,
      "outputs": []
    },
    {
      "cell_type": "code",
      "source": [
        "s3.waiter_names"
      ],
      "metadata": {
        "colab": {
          "base_uri": "https://localhost:8080/"
        },
        "id": "tzk1Ci0yOb62",
        "outputId": "96c60336-a60b-4a45-b538-eed66b682765"
      },
      "execution_count": 3,
      "outputs": [
        {
          "output_type": "execute_result",
          "data": {
            "text/plain": [
              "['bucket_exists', 'bucket_not_exists', 'object_exists', 'object_not_exists']"
            ]
          },
          "metadata": {},
          "execution_count": 3
        }
      ]
    },
    {
      "cell_type": "code",
      "source": [
        "dir(s3)"
      ],
      "metadata": {
        "colab": {
          "base_uri": "https://localhost:8080/"
        },
        "id": "QPJvC2RhOqeY",
        "outputId": "f3e44670-0782-4ac8-b0f7-2f2a52b1cd12"
      },
      "execution_count": null,
      "outputs": [
        {
          "output_type": "execute_result",
          "data": {
            "text/plain": [
              "['_PY_TO_OP_NAME',\n",
              " '__class__',\n",
              " '__delattr__',\n",
              " '__dict__',\n",
              " '__dir__',\n",
              " '__doc__',\n",
              " '__eq__',\n",
              " '__format__',\n",
              " '__ge__',\n",
              " '__getattr__',\n",
              " '__getattribute__',\n",
              " '__gt__',\n",
              " '__hash__',\n",
              " '__init__',\n",
              " '__init_subclass__',\n",
              " '__le__',\n",
              " '__lt__',\n",
              " '__module__',\n",
              " '__ne__',\n",
              " '__new__',\n",
              " '__reduce__',\n",
              " '__reduce_ex__',\n",
              " '__repr__',\n",
              " '__setattr__',\n",
              " '__sizeof__',\n",
              " '__str__',\n",
              " '__subclasshook__',\n",
              " '__weakref__',\n",
              " '_cache',\n",
              " '_client_config',\n",
              " '_convert_to_request_dict',\n",
              " '_emit_api_params',\n",
              " '_endpoint',\n",
              " '_exceptions',\n",
              " '_exceptions_factory',\n",
              " '_get_waiter_config',\n",
              " '_load_exceptions',\n",
              " '_loader',\n",
              " '_make_api_call',\n",
              " '_make_request',\n",
              " '_register_handlers',\n",
              " '_request_signer',\n",
              " '_response_parser',\n",
              " '_serializer',\n",
              " '_service_model',\n",
              " 'abort_multipart_upload',\n",
              " 'can_paginate',\n",
              " 'complete_multipart_upload',\n",
              " 'copy',\n",
              " 'copy_object',\n",
              " 'create_bucket',\n",
              " 'create_multipart_upload',\n",
              " 'delete_bucket',\n",
              " 'delete_bucket_analytics_configuration',\n",
              " 'delete_bucket_cors',\n",
              " 'delete_bucket_encryption',\n",
              " 'delete_bucket_intelligent_tiering_configuration',\n",
              " 'delete_bucket_inventory_configuration',\n",
              " 'delete_bucket_lifecycle',\n",
              " 'delete_bucket_metrics_configuration',\n",
              " 'delete_bucket_ownership_controls',\n",
              " 'delete_bucket_policy',\n",
              " 'delete_bucket_replication',\n",
              " 'delete_bucket_tagging',\n",
              " 'delete_bucket_website',\n",
              " 'delete_object',\n",
              " 'delete_object_tagging',\n",
              " 'delete_objects',\n",
              " 'delete_public_access_block',\n",
              " 'download_file',\n",
              " 'download_fileobj',\n",
              " 'exceptions',\n",
              " 'generate_presigned_post',\n",
              " 'generate_presigned_url',\n",
              " 'get_bucket_accelerate_configuration',\n",
              " 'get_bucket_acl',\n",
              " 'get_bucket_analytics_configuration',\n",
              " 'get_bucket_cors',\n",
              " 'get_bucket_encryption',\n",
              " 'get_bucket_intelligent_tiering_configuration',\n",
              " 'get_bucket_inventory_configuration',\n",
              " 'get_bucket_lifecycle',\n",
              " 'get_bucket_lifecycle_configuration',\n",
              " 'get_bucket_location',\n",
              " 'get_bucket_logging',\n",
              " 'get_bucket_metrics_configuration',\n",
              " 'get_bucket_notification',\n",
              " 'get_bucket_notification_configuration',\n",
              " 'get_bucket_ownership_controls',\n",
              " 'get_bucket_policy',\n",
              " 'get_bucket_policy_status',\n",
              " 'get_bucket_replication',\n",
              " 'get_bucket_request_payment',\n",
              " 'get_bucket_tagging',\n",
              " 'get_bucket_versioning',\n",
              " 'get_bucket_website',\n",
              " 'get_object',\n",
              " 'get_object_acl',\n",
              " 'get_object_attributes',\n",
              " 'get_object_legal_hold',\n",
              " 'get_object_lock_configuration',\n",
              " 'get_object_retention',\n",
              " 'get_object_tagging',\n",
              " 'get_object_torrent',\n",
              " 'get_paginator',\n",
              " 'get_public_access_block',\n",
              " 'get_waiter',\n",
              " 'head_bucket',\n",
              " 'head_object',\n",
              " 'list_bucket_analytics_configurations',\n",
              " 'list_bucket_intelligent_tiering_configurations',\n",
              " 'list_bucket_inventory_configurations',\n",
              " 'list_bucket_metrics_configurations',\n",
              " 'list_buckets',\n",
              " 'list_multipart_uploads',\n",
              " 'list_object_versions',\n",
              " 'list_objects',\n",
              " 'list_objects_v2',\n",
              " 'list_parts',\n",
              " 'meta',\n",
              " 'put_bucket_accelerate_configuration',\n",
              " 'put_bucket_acl',\n",
              " 'put_bucket_analytics_configuration',\n",
              " 'put_bucket_cors',\n",
              " 'put_bucket_encryption',\n",
              " 'put_bucket_intelligent_tiering_configuration',\n",
              " 'put_bucket_inventory_configuration',\n",
              " 'put_bucket_lifecycle',\n",
              " 'put_bucket_lifecycle_configuration',\n",
              " 'put_bucket_logging',\n",
              " 'put_bucket_metrics_configuration',\n",
              " 'put_bucket_notification',\n",
              " 'put_bucket_notification_configuration',\n",
              " 'put_bucket_ownership_controls',\n",
              " 'put_bucket_policy',\n",
              " 'put_bucket_replication',\n",
              " 'put_bucket_request_payment',\n",
              " 'put_bucket_tagging',\n",
              " 'put_bucket_versioning',\n",
              " 'put_bucket_website',\n",
              " 'put_object',\n",
              " 'put_object_acl',\n",
              " 'put_object_legal_hold',\n",
              " 'put_object_lock_configuration',\n",
              " 'put_object_retention',\n",
              " 'put_object_tagging',\n",
              " 'put_public_access_block',\n",
              " 'restore_object',\n",
              " 'select_object_content',\n",
              " 'upload_file',\n",
              " 'upload_fileobj',\n",
              " 'upload_part',\n",
              " 'upload_part_copy',\n",
              " 'waiter_names',\n",
              " 'write_get_object_response']"
            ]
          },
          "metadata": {},
          "execution_count": 10
        }
      ]
    },
    {
      "cell_type": "code",
      "source": [
        "! mkdir ./aws;  touch ./aws/config"
      ],
      "metadata": {
        "id": "SLSMKm2Saw2h",
        "colab": {
          "base_uri": "https://localhost:8080/"
        },
        "outputId": "ff55c697-3fed-4cf1-b9f9-480e564b4249"
      },
      "execution_count": 7,
      "outputs": [
        {
          "output_type": "stream",
          "name": "stdout",
          "text": [
            "mkdir: cannot create directory ‘./aws’: File exists\n"
          ]
        }
      ]
    },
    {
      "cell_type": "markdown",
      "source": [
        "**Configure Credentials by setting Environment Variables**"
      ],
      "metadata": {
        "id": "NREWYOGZKZJa"
      }
    },
    {
      "cell_type": "code",
      "source": [
        "from configparser import ConfigParser\n",
        "import os\n",
        "conf = ConfigParser()\n",
        "conf.read(\"./aws/config\")\n",
        "os.environ['AWS_ACCESS_KEY_ID']=conf['default']['AWS_ACCESS_KEY_ID']\n",
        "os.environ['AWS_SECRET_ACCESS_KEY']=conf['default']['AWS_SECRET_ACCESS_KEY']\n",
        "os.environ['region']=conf['default']['region']"
      ],
      "metadata": {
        "id": "RrzM0imFbNvq"
      },
      "execution_count": 13,
      "outputs": []
    },
    {
      "cell_type": "markdown",
      "source": [
        "**Accessing any service for which current user doesn't have access to gives an error as below**"
      ],
      "metadata": {
        "id": "1rzij2MYKl5s"
      }
    },
    {
      "cell_type": "code",
      "source": [
        "s3 = boto3.client('s3')\n",
        "s3.list_buckets()"
      ],
      "metadata": {
        "colab": {
          "base_uri": "https://localhost:8080/"
        },
        "id": "s-9JL6pedUQw",
        "outputId": "e60c999e-8c96-464c-e5f3-a7393bed67d8"
      },
      "execution_count": 14,
      "outputs": [
        {
          "output_type": "execute_result",
          "data": {
            "text/plain": [
              "{'Buckets': [{'CreationDate': datetime.datetime(2021, 8, 3, 5, 38, 21, tzinfo=tzlocal()),\n",
              "   'Name': 'aws-bkp-bkt'},\n",
              "  {'CreationDate': datetime.datetime(2022, 5, 22, 10, 39, 59, tzinfo=tzlocal()),\n",
              "   'Name': 'aws-glue-101'},\n",
              "  {'CreationDate': datetime.datetime(2022, 5, 19, 7, 9, 38, tzinfo=tzlocal()),\n",
              "   'Name': 'aws-glue-assets-130003587303-us-east-1'},\n",
              "  {'CreationDate': datetime.datetime(2022, 5, 16, 2, 57, 6, tzinfo=tzlocal()),\n",
              "   'Name': 'aws-glue-scripts-130003587303-us-east-1'},\n",
              "  {'CreationDate': datetime.datetime(2022, 5, 16, 2, 57, 8, tzinfo=tzlocal()),\n",
              "   'Name': 'aws-glue-temporary-130003587303-us-east-1'},\n",
              "  {'CreationDate': datetime.datetime(2021, 4, 29, 14, 13, 15, tzinfo=tzlocal()),\n",
              "   'Name': 'capgmn'},\n",
              "  {'CreationDate': datetime.datetime(2021, 6, 21, 6, 35, 35, tzinfo=tzlocal()),\n",
              "   'Name': 'concentrix-docs'},\n",
              "  {'CreationDate': datetime.datetime(2022, 5, 22, 11, 30, 44, tzinfo=tzlocal()),\n",
              "   'Name': 'covid-19-dataset-101'},\n",
              "  {'CreationDate': datetime.datetime(2022, 5, 14, 8, 22, 8, tzinfo=tzlocal()),\n",
              "   'Name': 'demo095321'},\n",
              "  {'CreationDate': datetime.datetime(2021, 5, 9, 9, 12, 57, tzinfo=tzlocal()),\n",
              "   'Name': 'emr-data-input'},\n",
              "  {'CreationDate': datetime.datetime(2021, 3, 2, 11, 7, 24, tzinfo=tzlocal()),\n",
              "   'Name': 'rss-feed-v1'},\n",
              "  {'CreationDate': datetime.datetime(2021, 4, 6, 15, 50, 54, tzinfo=tzlocal()),\n",
              "   'Name': 'rule0transformer'},\n",
              "  {'CreationDate': datetime.datetime(2021, 2, 7, 14, 54, 48, tzinfo=tzlocal()),\n",
              "   'Name': 's3-asia-mumbai-bucket-000001'},\n",
              "  {'CreationDate': datetime.datetime(2021, 6, 18, 15, 37, 29, tzinfo=tzlocal()),\n",
              "   'Name': 'samaa'}],\n",
              " 'Owner': {'DisplayName': 'ishank.kirty',\n",
              "  'ID': '5ba4148975abfea24d6197daa5d9ff060d54b1fa57a9956ae87effd7f4c59848'},\n",
              " 'ResponseMetadata': {'HTTPHeaders': {'content-type': 'application/xml',\n",
              "   'date': 'Fri, 27 May 2022 17:36:30 GMT',\n",
              "   'server': 'AmazonS3',\n",
              "   'transfer-encoding': 'chunked',\n",
              "   'x-amz-id-2': 'npFl95dUfVGy1CEnGsGGcqujvNPuMXge10+lXExv3AKFtw7nyr7oUSORtQ/PYI7dUkRSVZwDWKs=',\n",
              "   'x-amz-request-id': 'WGZKJ1V93C57G8P2'},\n",
              "  'HTTPStatusCode': 200,\n",
              "  'HostId': 'npFl95dUfVGy1CEnGsGGcqujvNPuMXge10+lXExv3AKFtw7nyr7oUSORtQ/PYI7dUkRSVZwDWKs=',\n",
              "  'RequestId': 'WGZKJ1V93C57G8P2',\n",
              "  'RetryAttempts': 0}}"
            ]
          },
          "metadata": {},
          "execution_count": 14
        }
      ]
    },
    {
      "cell_type": "markdown",
      "source": [
        "**AWS STS to assume role temporarily to access required service**\n",
        "\n",
        "Make sure the current user is added in Trusted entities of the Role to be assumed in IAM"
      ],
      "metadata": {
        "id": "Fxkob5BTK1uS"
      }
    },
    {
      "cell_type": "code",
      "source": [
        "sts_client = boto3.client('sts')\n",
        "sts_user=sts_client.assume_role(RoleArn='arn:aws:iam::130003587303:role/user_s3_tmp_role',\n",
        "                       RoleSessionName='s3_demo')"
      ],
      "metadata": {
        "id": "_nXlvQbTP1C3"
      },
      "execution_count": null,
      "outputs": []
    },
    {
      "cell_type": "code",
      "source": [
        "new_session = boto3.Session(aws_access_key_id=sts_user['Credentials']['AccessKeyId'],\n",
        "aws_secret_access_key=sts_user['Credentials']['SecretAccessKey'],\n",
        "aws_session_token=sts_user['Credentials']['SessionToken'])"
      ],
      "metadata": {
        "id": "FHqtpr5ajG0W"
      },
      "execution_count": null,
      "outputs": []
    },
    {
      "cell_type": "markdown",
      "source": [
        "AWS S3 get bucket list"
      ],
      "metadata": {
        "id": "Y1nYhga_LB15"
      }
    },
    {
      "cell_type": "code",
      "source": [
        "s3 = new_session.client('s3')\n",
        "s3.list_buckets()"
      ],
      "metadata": {
        "id": "M8ZV4dBfQuXP",
        "colab": {
          "base_uri": "https://localhost:8080/"
        },
        "outputId": "9dea0cb9-09d2-4942-ba3b-b04ed927a6c8"
      },
      "execution_count": null,
      "outputs": [
        {
          "output_type": "execute_result",
          "data": {
            "text/plain": [
              "{'Buckets': [{'CreationDate': datetime.datetime(2021, 8, 3, 5, 38, 21, tzinfo=tzlocal()),\n",
              "   'Name': 'aws-bkp-bkt'},\n",
              "  {'CreationDate': datetime.datetime(2021, 4, 29, 14, 13, 15, tzinfo=tzlocal()),\n",
              "   'Name': 'capgmn'},\n",
              "  {'CreationDate': datetime.datetime(2021, 6, 21, 6, 35, 35, tzinfo=tzlocal()),\n",
              "   'Name': 'concentrix-docs'},\n",
              "  {'CreationDate': datetime.datetime(2022, 5, 14, 8, 22, 8, tzinfo=tzlocal()),\n",
              "   'Name': 'demo095321'},\n",
              "  {'CreationDate': datetime.datetime(2021, 5, 9, 9, 12, 57, tzinfo=tzlocal()),\n",
              "   'Name': 'emr-data-input'},\n",
              "  {'CreationDate': datetime.datetime(2021, 3, 2, 11, 7, 24, tzinfo=tzlocal()),\n",
              "   'Name': 'rss-feed-v1'},\n",
              "  {'CreationDate': datetime.datetime(2021, 4, 6, 15, 50, 54, tzinfo=tzlocal()),\n",
              "   'Name': 'rule0transformer'},\n",
              "  {'CreationDate': datetime.datetime(2021, 2, 7, 14, 54, 48, tzinfo=tzlocal()),\n",
              "   'Name': 's3-asia-mumbai-bucket-000001'},\n",
              "  {'CreationDate': datetime.datetime(2021, 6, 18, 15, 37, 29, tzinfo=tzlocal()),\n",
              "   'Name': 'samaa'}],\n",
              " 'Owner': {'DisplayName': 'ishank.kirty',\n",
              "  'ID': '5ba4148975abfea24d6197daa5d9ff060d54b1fa57a9956ae87effd7f4c59848'},\n",
              " 'ResponseMetadata': {'HTTPHeaders': {'content-type': 'application/xml',\n",
              "   'date': 'Sat, 14 May 2022 09:12:20 GMT',\n",
              "   'server': 'AmazonS3',\n",
              "   'transfer-encoding': 'chunked',\n",
              "   'x-amz-id-2': 'pHxqJCB798lvR1l61f9csuBjNQyo7dJiSlTdxFNBEJ0FXJFmRMqVITmAEmgT32toY8aO62How7c=',\n",
              "   'x-amz-request-id': 'X4N9SP307HDFAEXW'},\n",
              "  'HTTPStatusCode': 200,\n",
              "  'HostId': 'pHxqJCB798lvR1l61f9csuBjNQyo7dJiSlTdxFNBEJ0FXJFmRMqVITmAEmgT32toY8aO62How7c=',\n",
              "  'RequestId': 'X4N9SP307HDFAEXW',\n",
              "  'RetryAttempts': 0}}"
            ]
          },
          "metadata": {},
          "execution_count": 39
        }
      ]
    },
    {
      "cell_type": "markdown",
      "source": [
        "AWS S3 list particular Bucket Objects"
      ],
      "metadata": {
        "id": "aP2Bmrz3LIti"
      }
    },
    {
      "cell_type": "code",
      "source": [
        "s3.list_objects(Bucket='emr-data-input')"
      ],
      "metadata": {
        "id": "bPJBW_FsXLeo",
        "colab": {
          "base_uri": "https://localhost:8080/"
        },
        "outputId": "e1953737-b7c5-45d3-ca5d-68f970529292"
      },
      "execution_count": null,
      "outputs": [
        {
          "output_type": "execute_result",
          "data": {
            "text/plain": [
              "{'Contents': [{'ETag': '\"d41d8cd98f00b204e9800998ecf8427e\"',\n",
              "   'Key': 'csv-data/',\n",
              "   'LastModified': datetime.datetime(2021, 5, 9, 9, 13, 37, tzinfo=tzlocal()),\n",
              "   'Owner': {'DisplayName': 'ishank.kirty',\n",
              "    'ID': '5ba4148975abfea24d6197daa5d9ff060d54b1fa57a9956ae87effd7f4c59848'},\n",
              "   'Size': 0,\n",
              "   'StorageClass': 'STANDARD'},\n",
              "  {'ETag': '\"e7a61945ed4541fc956a0e93859a712f\"',\n",
              "   'Key': 'csv-data/Heart.csv',\n",
              "   'LastModified': datetime.datetime(2021, 5, 9, 12, 29, 59, tzinfo=tzlocal()),\n",
              "   'Owner': {'DisplayName': 'ishank.kirty',\n",
              "    'ID': '5ba4148975abfea24d6197daa5d9ff060d54b1fa57a9956ae87effd7f4c59848'},\n",
              "   'Size': 17782,\n",
              "   'StorageClass': 'STANDARD'},\n",
              "  {'ETag': '\"59997623160f97a9a3500233c9b66e06-8\"',\n",
              "   'Key': 'csv-data/household_power_consumption.txt',\n",
              "   'LastModified': datetime.datetime(2021, 6, 13, 17, 0, 32, tzinfo=tzlocal()),\n",
              "   'Owner': {'DisplayName': 'ishank.kirty',\n",
              "    'ID': '5ba4148975abfea24d6197daa5d9ff060d54b1fa57a9956ae87effd7f4c59848'},\n",
              "   'Size': 132960755,\n",
              "   'StorageClass': 'STANDARD'},\n",
              "  {'ETag': '\"d41d8cd98f00b204e9800998ecf8427e\"',\n",
              "   'Key': 'csv-data/tickit/',\n",
              "   'LastModified': datetime.datetime(2021, 5, 25, 2, 50, 52, tzinfo=tzlocal()),\n",
              "   'Owner': {'DisplayName': 'ishank.kirty',\n",
              "    'ID': '5ba4148975abfea24d6197daa5d9ff060d54b1fa57a9956ae87effd7f4c59848'},\n",
              "   'Size': 0,\n",
              "   'StorageClass': 'STANDARD'},\n",
              "  {'ETag': '\"d0b10ef5d1b8ba1f6f56b3004576245f\"',\n",
              "   'Key': 'csv-data/tickit/allevents_pipe.txt',\n",
              "   'LastModified': datetime.datetime(2021, 5, 25, 2, 51, 40, tzinfo=tzlocal()),\n",
              "   'Owner': {'DisplayName': 'ishank.kirty',\n",
              "    'ID': '5ba4148975abfea24d6197daa5d9ff060d54b1fa57a9956ae87effd7f4c59848'},\n",
              "   'Size': 445838,\n",
              "   'StorageClass': 'STANDARD'},\n",
              "  {'ETag': '\"04326b3496516e939ca14678cb1456fc\"',\n",
              "   'Key': 'csv-data/tickit/allusers_pipe.txt',\n",
              "   'LastModified': datetime.datetime(2021, 5, 25, 2, 51, 44, tzinfo=tzlocal()),\n",
              "   'Owner': {'DisplayName': 'ishank.kirty',\n",
              "    'ID': '5ba4148975abfea24d6197daa5d9ff060d54b1fa57a9956ae87effd7f4c59848'},\n",
              "   'Size': 5893626,\n",
              "   'StorageClass': 'STANDARD'},\n",
              "  {'ETag': '\"36089a070f5e6d62884589dfc575cfb0\"',\n",
              "   'Key': 'csv-data/tickit/category_pipe.txt',\n",
              "   'LastModified': datetime.datetime(2021, 5, 25, 2, 51, 45, tzinfo=tzlocal()),\n",
              "   'Owner': {'DisplayName': 'ishank.kirty',\n",
              "    'ID': '5ba4148975abfea24d6197daa5d9ff060d54b1fa57a9956ae87effd7f4c59848'},\n",
              "   'Size': 465,\n",
              "   'StorageClass': 'STANDARD'},\n",
              "  {'ETag': '\"53c2650449d68d57b31f6d12184a976a\"',\n",
              "   'Key': 'csv-data/tickit/date2008_pipe.txt',\n",
              "   'LastModified': datetime.datetime(2021, 5, 25, 2, 51, 46, tzinfo=tzlocal()),\n",
              "   'Owner': {'DisplayName': 'ishank.kirty',\n",
              "    'ID': '5ba4148975abfea24d6197daa5d9ff060d54b1fa57a9956ae87effd7f4c59848'},\n",
              "   'Size': 14534,\n",
              "   'StorageClass': 'STANDARD'},\n",
              "  {'ETag': '\"050b60b9f1f8a27296d9483b80b78c7c\"',\n",
              "   'Key': 'csv-data/tickit/listings_pipe.txt',\n",
              "   'LastModified': datetime.datetime(2021, 5, 25, 2, 52, 6, tzinfo=tzlocal()),\n",
              "   'Owner': {'DisplayName': 'ishank.kirty',\n",
              "    'ID': '5ba4148975abfea24d6197daa5d9ff060d54b1fa57a9956ae87effd7f4c59848'},\n",
              "   'Size': 11585036,\n",
              "   'StorageClass': 'STANDARD'},\n",
              "  {'ETag': '\"118308103cc6e8bcab8c258b03a92ee9\"',\n",
              "   'Key': 'csv-data/tickit/sales_tab.txt',\n",
              "   'LastModified': datetime.datetime(2021, 5, 25, 2, 53, 16, tzinfo=tzlocal()),\n",
              "   'Owner': {'DisplayName': 'ishank.kirty',\n",
              "    'ID': '5ba4148975abfea24d6197daa5d9ff060d54b1fa57a9956ae87effd7f4c59848'},\n",
              "   'Size': 11260097,\n",
              "   'StorageClass': 'STANDARD'},\n",
              "  {'ETag': '\"6833047b5483b1de02a536ab64e6d3d5\"',\n",
              "   'Key': 'csv-data/tickit/venue_pipe.txt',\n",
              "   'LastModified': datetime.datetime(2021, 5, 25, 2, 53, 28, tzinfo=tzlocal()),\n",
              "   'Owner': {'DisplayName': 'ishank.kirty',\n",
              "    'ID': '5ba4148975abfea24d6197daa5d9ff060d54b1fa57a9956ae87effd7f4c59848'},\n",
              "   'Size': 7988,\n",
              "   'StorageClass': 'STANDARD'},\n",
              "  {'ETag': '\"d41d8cd98f00b204e9800998ecf8427e\"',\n",
              "   'Key': 'customers/',\n",
              "   'LastModified': datetime.datetime(2022, 5, 9, 11, 43, 33, tzinfo=tzlocal()),\n",
              "   'Owner': {'DisplayName': 'ishank.kirty',\n",
              "    'ID': '5ba4148975abfea24d6197daa5d9ff060d54b1fa57a9956ae87effd7f4c59848'},\n",
              "   'Size': 0,\n",
              "   'StorageClass': 'STANDARD'},\n",
              "  {'ETag': '\"217e34cf03f06e3949b2e4f70a07101d\"',\n",
              "   'Key': 'customers/customers.csv',\n",
              "   'LastModified': datetime.datetime(2022, 5, 9, 11, 43, 55, tzinfo=tzlocal()),\n",
              "   'Owner': {'DisplayName': 'ishank.kirty',\n",
              "    'ID': '5ba4148975abfea24d6197daa5d9ff060d54b1fa57a9956ae87effd7f4c59848'},\n",
              "   'Size': 7994,\n",
              "   'StorageClass': 'STANDARD'},\n",
              "  {'ETag': '\"d41d8cd98f00b204e9800998ecf8427e\"',\n",
              "   'Key': 'json-data/',\n",
              "   'LastModified': datetime.datetime(2021, 5, 9, 9, 13, 26, tzinfo=tzlocal()),\n",
              "   'Owner': {'DisplayName': 'ishank.kirty',\n",
              "    'ID': '5ba4148975abfea24d6197daa5d9ff060d54b1fa57a9956ae87effd7f4c59848'},\n",
              "   'Size': 0,\n",
              "   'StorageClass': 'STANDARD'},\n",
              "  {'ETag': '\"be4e528d1bf64597192cf8c146d551c8\"',\n",
              "   'Key': 'json-data/emp.json',\n",
              "   'LastModified': datetime.datetime(2021, 5, 9, 9, 54, 50, tzinfo=tzlocal()),\n",
              "   'Owner': {'DisplayName': 'ishank.kirty',\n",
              "    'ID': '5ba4148975abfea24d6197daa5d9ff060d54b1fa57a9956ae87effd7f4c59848'},\n",
              "   'Size': 1600,\n",
              "   'StorageClass': 'STANDARD'},\n",
              "  {'ETag': '\"d41d8cd98f00b204e9800998ecf8427e\"',\n",
              "   'Key': 'sales/',\n",
              "   'LastModified': datetime.datetime(2022, 5, 9, 11, 44, 11, tzinfo=tzlocal()),\n",
              "   'Owner': {'DisplayName': 'ishank.kirty',\n",
              "    'ID': '5ba4148975abfea24d6197daa5d9ff060d54b1fa57a9956ae87effd7f4c59848'},\n",
              "   'Size': 0,\n",
              "   'StorageClass': 'STANDARD'},\n",
              "  {'ETag': '\"ea93940b8631c79c72acba41fe1f9458\"',\n",
              "   'Key': 'sales/sales.csv',\n",
              "   'LastModified': datetime.datetime(2022, 5, 9, 11, 44, 27, tzinfo=tzlocal()),\n",
              "   'Owner': {'DisplayName': 'ishank.kirty',\n",
              "    'ID': '5ba4148975abfea24d6197daa5d9ff060d54b1fa57a9956ae87effd7f4c59848'},\n",
              "   'Size': 262407,\n",
              "   'StorageClass': 'STANDARD'}],\n",
              " 'EncodingType': 'url',\n",
              " 'IsTruncated': False,\n",
              " 'Marker': '',\n",
              " 'MaxKeys': 1000,\n",
              " 'Name': 'emr-data-input',\n",
              " 'Prefix': '',\n",
              " 'ResponseMetadata': {'HTTPHeaders': {'content-type': 'application/xml',\n",
              "   'date': 'Sat, 14 May 2022 09:12:26 GMT',\n",
              "   'server': 'AmazonS3',\n",
              "   'transfer-encoding': 'chunked',\n",
              "   'x-amz-bucket-region': 'us-east-1',\n",
              "   'x-amz-id-2': 'odc2iB3TD1WiqO6PFU0upg6mHodhl3g/JJdS7xet9mcSLwzoYhf6lkxcjKiIDLHGGsi/ucntyWs=',\n",
              "   'x-amz-request-id': 'RGTV27JFC8SQS2FE'},\n",
              "  'HTTPStatusCode': 200,\n",
              "  'HostId': 'odc2iB3TD1WiqO6PFU0upg6mHodhl3g/JJdS7xet9mcSLwzoYhf6lkxcjKiIDLHGGsi/ucntyWs=',\n",
              "  'RequestId': 'RGTV27JFC8SQS2FE',\n",
              "  'RetryAttempts': 0}}"
            ]
          },
          "metadata": {},
          "execution_count": 40
        }
      ]
    },
    {
      "cell_type": "markdown",
      "source": [
        "**AWS S3 Creating new bucket**"
      ],
      "metadata": {
        "id": "UcPrb3ZuL38y"
      }
    },
    {
      "cell_type": "code",
      "source": [
        "s3.create_bucket(Bucket='demo095321')"
      ],
      "metadata": {
        "id": "IB1vXa6CXvcR",
        "colab": {
          "base_uri": "https://localhost:8080/"
        },
        "outputId": "0aa2d17d-1138-4b69-9f6d-c05e43b70758"
      },
      "execution_count": null,
      "outputs": [
        {
          "output_type": "execute_result",
          "data": {
            "text/plain": [
              "{'Location': '/demo095321',\n",
              " 'ResponseMetadata': {'HTTPHeaders': {'content-length': '0',\n",
              "   'date': 'Sat, 14 May 2022 08:22:08 GMT',\n",
              "   'location': '/demo095321',\n",
              "   'server': 'AmazonS3',\n",
              "   'x-amz-id-2': 'QL6Ts48K8L0SEYVS1FsOYKaadMaz70wfNbNf9IcYI8I1tTQcGo+J3s7F4o9ZPSowWW6Xq0/3UUY=',\n",
              "   'x-amz-request-id': '1JP31PYB1CC7F5WY'},\n",
              "  'HTTPStatusCode': 200,\n",
              "  'HostId': 'QL6Ts48K8L0SEYVS1FsOYKaadMaz70wfNbNf9IcYI8I1tTQcGo+J3s7F4o9ZPSowWW6Xq0/3UUY=',\n",
              "  'RequestId': '1JP31PYB1CC7F5WY',\n",
              "  'RetryAttempts': 0}}"
            ]
          },
          "metadata": {},
          "execution_count": 29
        }
      ]
    },
    {
      "cell_type": "markdown",
      "source": [
        "**AWS S3 upload file in bucket**"
      ],
      "metadata": {
        "id": "z_QCAs1iL_Kp"
      }
    },
    {
      "cell_type": "code",
      "source": [
        "s3.upload_file('./sample_data/mnist_train_small.csv','demo095321','mnist_small.csv')"
      ],
      "metadata": {
        "id": "O6ct6IECqLJb"
      },
      "execution_count": null,
      "outputs": []
    },
    {
      "cell_type": "markdown",
      "source": [
        "**AWS S3 upload large files using multipart**\n",
        "\n",
        "\n",
        "\n",
        "1.   create multipart upload - generate upload id\n",
        "2.   upload part - upload actual data chunks with upload id and part number.\n",
        "3.   complete multpart\n",
        "\n",
        "\n",
        "\n"
      ],
      "metadata": {
        "id": "n8F7N89lMEKo"
      }
    },
    {
      "cell_type": "code",
      "source": [
        "file_path = './sample_data/mnist_train_small.csv'\n",
        "chunk_size = 1024\n",
        "def read_file_chunk(file_path,chunk_size):\n",
        "  file_obj = open(file_path,'rb')\n",
        "  while True:\n",
        "    data = file_obj.read(chunk_size)\n",
        "    if not data:\n",
        "      break\n",
        "    yield data"
      ],
      "metadata": {
        "id": "_jZ2uo0VvDol"
      },
      "execution_count": null,
      "outputs": []
    },
    {
      "cell_type": "code",
      "source": [
        "multipart_upload=s3.create_multipart_upload(Bucket='demo095321',Key='mnist_test.csv')\n",
        "part_list=list()\n",
        "cnt=1\n",
        "for part in read_file_chunk(file_path,chunk_size):\n",
        "  try:\n",
        "    resp=s3.upload_part(Body=part,\n",
        "                 Bucket='demo095321',\n",
        "                 Key='mnist_multipart.csv',\n",
        "                 PartNumber=cnt,\n",
        "                 UploadId=multipart_upload['UploadId'])\n",
        "    uploaded_part={'ETag':resp['ETag'],'PartNumber':cnt}\n",
        "    part_list.append(uploaded_part)\n",
        "    cnt+=1\n",
        "  except Exception as e:\n",
        "    print(e)\n",
        "    break\n",
        "#s3.complete_multipart_upload(\n",
        "#    Bucket='demo095321',\n",
        "#    Key='mnist_multipart.csv',\n",
        "#    UploadId=multipart_upload['UploadId'],\n",
        "#    Parts=part_list\n",
        "#)"
      ],
      "metadata": {
        "colab": {
          "base_uri": "https://localhost:8080/"
        },
        "id": "ppdysWHn31tB",
        "outputId": "4c5f5b0c-0ac2-4762-98f6-607355847a16"
      },
      "execution_count": null,
      "outputs": [
        {
          "output_type": "stream",
          "name": "stdout",
          "text": [
            "An error occurred (NoSuchUpload) when calling the UploadPart operation: The specified upload does not exist. The upload ID may be invalid, or the upload may have been aborted or completed.\n"
          ]
        }
      ]
    },
    {
      "cell_type": "markdown",
      "source": [
        "**Upload objects to S3 bucket wigh Presigned URL**"
      ],
      "metadata": {
        "id": "7DcCIMBeXetd"
      }
    },
    {
      "cell_type": "code",
      "source": [
        "response = s3.generate_presigned_post(\n",
        "    Bucket='demo095321',\n",
        "    Key='presigned_file.txt',\n",
        "    ExpiresIn=20\n",
        ")\n",
        "\n",
        "import requests\n",
        "files = {'file':open('./sample_data/presigned_test.txt','rb')}\n",
        "r=requests.post(response['url'],files=files,data=response['fields'])\n",
        "print(r.status_code)"
      ],
      "metadata": {
        "id": "dT9WKEtFXrp7"
      },
      "execution_count": null,
      "outputs": []
    },
    {
      "cell_type": "markdown",
      "source": [
        "**Hosting Static Website over S3**"
      ],
      "metadata": {
        "id": "hMYiAtaAiLrq"
      }
    },
    {
      "cell_type": "markdown",
      "source": [
        "\n",
        "\n",
        "*   Upload all static files e.g. html,css,js to bucket\n",
        "*   make sure html is named index.html\n",
        "*   Go to bucket's Block public access (bucket settings) and desable block public access \n",
        "*   Go to bucket's properties and edit enable website hosting settings. Click on enable\n",
        "*   Select all objects in bucket used in static website,and click on 'make public using acl' from dropdown menu in actions \n",
        "\n"
      ],
      "metadata": {
        "id": "1bh-Qp_bwaz1"
      }
    },
    {
      "cell_type": "code",
      "source": [
        ""
      ],
      "metadata": {
        "id": "EYYxexsLmOkJ"
      },
      "execution_count": null,
      "outputs": []
    }
  ]
}