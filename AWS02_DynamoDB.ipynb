{
  "nbformat": 4,
  "nbformat_minor": 0,
  "metadata": {
    "colab": {
      "name": "AWS02_DynamoDB.ipynb",
      "provenance": [],
      "collapsed_sections": [],
      "authorship_tag": "ABX9TyNd0zuEIsa2dhTE2yEyTWgY",
      "include_colab_link": true
    },
    "kernelspec": {
      "name": "python3",
      "display_name": "Python 3"
    },
    "language_info": {
      "name": "python"
    }
  },
  "cells": [
    {
      "cell_type": "markdown",
      "metadata": {
        "id": "view-in-github",
        "colab_type": "text"
      },
      "source": [
        "<a href=\"https://colab.research.google.com/github/ishank296/aws_automation_scripts/blob/main/AWS02_DynamoDB.ipynb\" target=\"_parent\"><img src=\"https://colab.research.google.com/assets/colab-badge.svg\" alt=\"Open In Colab\"/></a>"
      ]
    },
    {
      "cell_type": "code",
      "execution_count": 1,
      "metadata": {
        "colab": {
          "base_uri": "https://localhost:8080/"
        },
        "id": "jahyQSFmqoYO",
        "outputId": "323b6914-50db-4db4-c039-f11f46e20842"
      },
      "outputs": [
        {
          "output_type": "stream",
          "name": "stdout",
          "text": [
            "Looking in indexes: https://pypi.org/simple, https://us-python.pkg.dev/colab-wheels/public/simple/\n",
            "Collecting boto3\n",
            "  Downloading boto3-1.23.7-py3-none-any.whl (132 kB)\n",
            "\u001b[K     |████████████████████████████████| 132 kB 5.4 MB/s \n",
            "\u001b[?25hCollecting s3transfer<0.6.0,>=0.5.0\n",
            "  Downloading s3transfer-0.5.2-py3-none-any.whl (79 kB)\n",
            "\u001b[K     |████████████████████████████████| 79 kB 6.3 MB/s \n",
            "\u001b[?25hCollecting jmespath<2.0.0,>=0.7.1\n",
            "  Downloading jmespath-1.0.0-py3-none-any.whl (23 kB)\n",
            "Collecting botocore<1.27.0,>=1.26.7\n",
            "  Downloading botocore-1.26.7-py3-none-any.whl (8.8 MB)\n",
            "\u001b[K     |████████████████████████████████| 8.8 MB 38.1 MB/s \n",
            "\u001b[?25hCollecting urllib3<1.27,>=1.25.4\n",
            "  Downloading urllib3-1.26.9-py2.py3-none-any.whl (138 kB)\n",
            "\u001b[K     |████████████████████████████████| 138 kB 40.6 MB/s \n",
            "\u001b[?25hRequirement already satisfied: python-dateutil<3.0.0,>=2.1 in /usr/local/lib/python3.7/dist-packages (from botocore<1.27.0,>=1.26.7->boto3) (2.8.2)\n",
            "Requirement already satisfied: six>=1.5 in /usr/local/lib/python3.7/dist-packages (from python-dateutil<3.0.0,>=2.1->botocore<1.27.0,>=1.26.7->boto3) (1.15.0)\n",
            "Installing collected packages: urllib3, jmespath, botocore, s3transfer, boto3\n",
            "  Attempting uninstall: urllib3\n",
            "    Found existing installation: urllib3 1.24.3\n",
            "    Uninstalling urllib3-1.24.3:\n",
            "      Successfully uninstalled urllib3-1.24.3\n",
            "\u001b[31mERROR: pip's dependency resolver does not currently take into account all the packages that are installed. This behaviour is the source of the following dependency conflicts.\n",
            "requests 2.23.0 requires urllib3!=1.25.0,!=1.25.1,<1.26,>=1.21.1, but you have urllib3 1.26.9 which is incompatible.\n",
            "datascience 0.10.6 requires folium==0.2.1, but you have folium 0.8.3 which is incompatible.\u001b[0m\n",
            "Successfully installed boto3-1.23.7 botocore-1.26.7 jmespath-1.0.0 s3transfer-0.5.2 urllib3-1.26.9\n"
          ]
        }
      ],
      "source": [
        "!pip install boto3"
      ]
    },
    {
      "cell_type": "code",
      "source": [
        "import os\n",
        "if not os.path.isdir('aws'):\n",
        "  os.mkdir('aws')\n",
        "  conf_file = open('./aws/config','w')\n",
        "  conf_file.close()"
      ],
      "metadata": {
        "id": "niZP4gLSr8qk"
      },
      "execution_count": 7,
      "outputs": []
    },
    {
      "cell_type": "code",
      "source": [
        "from configparser import ConfigParser\n",
        "import os\n",
        "conf = ConfigParser()\n",
        "conf.read(\"./aws/config\")\n",
        "os.environ['AWS_ACCESS_KEY_ID']=conf['default']['AWS_ACCESS_KEY_ID']\n",
        "os.environ['AWS_SECRET_ACCESS_KEY']=conf['default']['AWS_SECRET_ACCESS_KEY']\n",
        "#os.environ['region']=conf['default']['region']"
      ],
      "metadata": {
        "id": "r10p1ohqrgw8"
      },
      "execution_count": 6,
      "outputs": []
    },
    {
      "cell_type": "code",
      "source": [
        "import boto3\n",
        "dynamodb=boto3.client('dynamodb',region_name='us-east-1')"
      ],
      "metadata": {
        "id": "wWAx8P6wqyZb"
      },
      "execution_count": 8,
      "outputs": []
    },
    {
      "cell_type": "code",
      "source": [
        "dir(dynamodb)"
      ],
      "metadata": {
        "colab": {
          "base_uri": "https://localhost:8080/"
        },
        "id": "dv53qXiSq6-h",
        "outputId": "7ad89088-0b3d-4cd3-93bd-393d2a295fc2"
      },
      "execution_count": 19,
      "outputs": [
        {
          "output_type": "execute_result",
          "data": {
            "text/plain": [
              "['_PY_TO_OP_NAME',\n",
              " '__class__',\n",
              " '__delattr__',\n",
              " '__dict__',\n",
              " '__dir__',\n",
              " '__doc__',\n",
              " '__eq__',\n",
              " '__format__',\n",
              " '__ge__',\n",
              " '__getattr__',\n",
              " '__getattribute__',\n",
              " '__gt__',\n",
              " '__hash__',\n",
              " '__init__',\n",
              " '__init_subclass__',\n",
              " '__le__',\n",
              " '__lt__',\n",
              " '__module__',\n",
              " '__ne__',\n",
              " '__new__',\n",
              " '__reduce__',\n",
              " '__reduce_ex__',\n",
              " '__repr__',\n",
              " '__setattr__',\n",
              " '__sizeof__',\n",
              " '__str__',\n",
              " '__subclasshook__',\n",
              " '__weakref__',\n",
              " '_cache',\n",
              " '_client_config',\n",
              " '_convert_to_request_dict',\n",
              " '_emit_api_params',\n",
              " '_endpoint',\n",
              " '_exceptions',\n",
              " '_exceptions_factory',\n",
              " '_get_waiter_config',\n",
              " '_load_exceptions',\n",
              " '_loader',\n",
              " '_make_api_call',\n",
              " '_make_request',\n",
              " '_register_handlers',\n",
              " '_request_signer',\n",
              " '_response_parser',\n",
              " '_serializer',\n",
              " '_service_model',\n",
              " 'batch_execute_statement',\n",
              " 'batch_get_item',\n",
              " 'batch_write_item',\n",
              " 'can_paginate',\n",
              " 'create_backup',\n",
              " 'create_global_table',\n",
              " 'create_table',\n",
              " 'delete_backup',\n",
              " 'delete_item',\n",
              " 'delete_table',\n",
              " 'describe_backup',\n",
              " 'describe_continuous_backups',\n",
              " 'describe_contributor_insights',\n",
              " 'describe_endpoints',\n",
              " 'describe_export',\n",
              " 'describe_global_table',\n",
              " 'describe_global_table_settings',\n",
              " 'describe_kinesis_streaming_destination',\n",
              " 'describe_limits',\n",
              " 'describe_table',\n",
              " 'describe_table_replica_auto_scaling',\n",
              " 'describe_time_to_live',\n",
              " 'disable_kinesis_streaming_destination',\n",
              " 'enable_kinesis_streaming_destination',\n",
              " 'exceptions',\n",
              " 'execute_statement',\n",
              " 'execute_transaction',\n",
              " 'export_table_to_point_in_time',\n",
              " 'generate_presigned_url',\n",
              " 'get_item',\n",
              " 'get_paginator',\n",
              " 'get_waiter',\n",
              " 'list_backups',\n",
              " 'list_contributor_insights',\n",
              " 'list_exports',\n",
              " 'list_global_tables',\n",
              " 'list_tables',\n",
              " 'list_tags_of_resource',\n",
              " 'meta',\n",
              " 'put_item',\n",
              " 'query',\n",
              " 'restore_table_from_backup',\n",
              " 'restore_table_to_point_in_time',\n",
              " 'scan',\n",
              " 'tag_resource',\n",
              " 'transact_get_items',\n",
              " 'transact_write_items',\n",
              " 'untag_resource',\n",
              " 'update_continuous_backups',\n",
              " 'update_contributor_insights',\n",
              " 'update_global_table',\n",
              " 'update_global_table_settings',\n",
              " 'update_item',\n",
              " 'update_table',\n",
              " 'update_table_replica_auto_scaling',\n",
              " 'update_time_to_live',\n",
              " 'waiter_names']"
            ]
          },
          "metadata": {},
          "execution_count": 19
        }
      ]
    },
    {
      "cell_type": "code",
      "source": [
        "dynamodb.list_tables()"
      ],
      "metadata": {
        "colab": {
          "base_uri": "https://localhost:8080/"
        },
        "id": "Tl8nuL7_zvTQ",
        "outputId": "7191dd51-529f-41f1-cd18-ada8fc25e171"
      },
      "execution_count": 8,
      "outputs": [
        {
          "output_type": "execute_result",
          "data": {
            "text/plain": [
              "{'ResponseMetadata': {'HTTPHeaders': {'connection': 'keep-alive',\n",
              "   'content-length': '50',\n",
              "   'content-type': 'application/x-amz-json-1.0',\n",
              "   'date': 'Tue, 24 May 2022 15:34:31 GMT',\n",
              "   'server': 'Server',\n",
              "   'x-amz-crc32': '3630988422',\n",
              "   'x-amzn-requestid': '2GMAO0G406P1UOPD3DUU5U8JKJVV4KQNSO5AEMVJF66Q9ASUAAJG'},\n",
              "  'HTTPStatusCode': 200,\n",
              "  'RequestId': '2GMAO0G406P1UOPD3DUU5U8JKJVV4KQNSO5AEMVJF66Q9ASUAAJG',\n",
              "  'RetryAttempts': 0},\n",
              " 'TableNames': ['Forum', 'ProductCatalog', 'Thread']}"
            ]
          },
          "metadata": {},
          "execution_count": 8
        }
      ]
    },
    {
      "cell_type": "code",
      "source": [
        "dynamodb.create_table(\n",
        "    TableName = 'ProductCatalog',\n",
        "    KeySchema = [\n",
        "          {'AttributeName':'id','KeyType':'HASH'}\n",
        "    ],\n",
        "    AttributeDefinitions=[\n",
        "        {\n",
        "            'AttributeName': 'id',\n",
        "            'AttributeType': 'S'\n",
        "        }\n",
        "    ],\n",
        "    ProvisionedThroughput={\n",
        "        'ReadCapacityUnits': 5,\n",
        "        'WriteCapacityUnits': 5\n",
        "    }\n",
        ")"
      ],
      "metadata": {
        "colab": {
          "base_uri": "https://localhost:8080/"
        },
        "id": "I8-goAjiz5M0",
        "outputId": "982e0f1a-5460-461d-f138-9bb3a92b4ca0"
      },
      "execution_count": 22,
      "outputs": [
        {
          "output_type": "execute_result",
          "data": {
            "text/plain": [
              "{'ResponseMetadata': {'HTTPHeaders': {'connection': 'keep-alive',\n",
              "   'content-length': '488',\n",
              "   'content-type': 'application/x-amz-json-1.0',\n",
              "   'date': 'Tue, 24 May 2022 11:52:32 GMT',\n",
              "   'server': 'Server',\n",
              "   'x-amz-crc32': '1248696082',\n",
              "   'x-amzn-requestid': 'B1TGOB66MMO9A620J3SFF8IG2JVV4KQNSO5AEMVJF66Q9ASUAAJG'},\n",
              "  'HTTPStatusCode': 200,\n",
              "  'RequestId': 'B1TGOB66MMO9A620J3SFF8IG2JVV4KQNSO5AEMVJF66Q9ASUAAJG',\n",
              "  'RetryAttempts': 0},\n",
              " 'TableDescription': {'AttributeDefinitions': [{'AttributeName': 'id',\n",
              "    'AttributeType': 'S'}],\n",
              "  'CreationDateTime': datetime.datetime(2022, 5, 24, 11, 52, 32, 752000, tzinfo=tzlocal()),\n",
              "  'ItemCount': 0,\n",
              "  'KeySchema': [{'AttributeName': 'id', 'KeyType': 'HASH'}],\n",
              "  'ProvisionedThroughput': {'NumberOfDecreasesToday': 0,\n",
              "   'ReadCapacityUnits': 5,\n",
              "   'WriteCapacityUnits': 5},\n",
              "  'TableArn': 'arn:aws:dynamodb:us-east-1:130003587303:table/ProductCatalog',\n",
              "  'TableId': 'b3c9b1f8-a3d4-41ef-a912-21306d8c63cc',\n",
              "  'TableName': 'ProductCatalog',\n",
              "  'TableSizeBytes': 0,\n",
              "  'TableStatus': 'CREATING'}}"
            ]
          },
          "metadata": {},
          "execution_count": 22
        }
      ]
    },
    {
      "cell_type": "code",
      "source": [
        "dynamodb.create_table(\n",
        "    TableName='Forum',\n",
        "    KeySchema = [\n",
        "            {'AttributeName':'Name','KeyType':'HASH'}\n",
        "    ],\n",
        "    AttributeDefinitions=[\n",
        "            {'AttributeName':'Name','AttributeType':'S'}\n",
        "    ],\n",
        "    ProvisionedThroughput={\n",
        "        'ReadCapacityUnits':5,'WriteCapacityUnits':5\n",
        "    }\n",
        ")"
      ],
      "metadata": {
        "colab": {
          "base_uri": "https://localhost:8080/"
        },
        "id": "zn9diHGu6F12",
        "outputId": "2d78dcb8-7804-41e1-ca0b-51e5737a0694"
      },
      "execution_count": 23,
      "outputs": [
        {
          "output_type": "execute_result",
          "data": {
            "text/plain": [
              "{'ResponseMetadata': {'HTTPHeaders': {'connection': 'keep-alive',\n",
              "   'content-length': '474',\n",
              "   'content-type': 'application/x-amz-json-1.0',\n",
              "   'date': 'Tue, 24 May 2022 11:57:03 GMT',\n",
              "   'server': 'Server',\n",
              "   'x-amz-crc32': '495355201',\n",
              "   'x-amzn-requestid': '6KQ1JK98CSSSS1GSK0H5ON1Q8BVV4KQNSO5AEMVJF66Q9ASUAAJG'},\n",
              "  'HTTPStatusCode': 200,\n",
              "  'RequestId': '6KQ1JK98CSSSS1GSK0H5ON1Q8BVV4KQNSO5AEMVJF66Q9ASUAAJG',\n",
              "  'RetryAttempts': 0},\n",
              " 'TableDescription': {'AttributeDefinitions': [{'AttributeName': 'Name',\n",
              "    'AttributeType': 'S'}],\n",
              "  'CreationDateTime': datetime.datetime(2022, 5, 24, 11, 57, 3, 32000, tzinfo=tzlocal()),\n",
              "  'ItemCount': 0,\n",
              "  'KeySchema': [{'AttributeName': 'Name', 'KeyType': 'HASH'}],\n",
              "  'ProvisionedThroughput': {'NumberOfDecreasesToday': 0,\n",
              "   'ReadCapacityUnits': 5,\n",
              "   'WriteCapacityUnits': 5},\n",
              "  'TableArn': 'arn:aws:dynamodb:us-east-1:130003587303:table/Forum',\n",
              "  'TableId': 'da42bf03-6d45-4a18-8c54-637f24c2d102',\n",
              "  'TableName': 'Forum',\n",
              "  'TableSizeBytes': 0,\n",
              "  'TableStatus': 'CREATING'}}"
            ]
          },
          "metadata": {},
          "execution_count": 23
        }
      ]
    },
    {
      "cell_type": "code",
      "source": [
        "dynamodb.create_table(\n",
        "    TableName='Thread',\n",
        "    KeySchema= [\n",
        "      {'AttributeName':'ForumName','KeyType':'HASH'},\n",
        "      {'AttributeName':'Subject','KeyType':'RANGE'}\n",
        "    ],\n",
        "    AttributeDefinitions=[{'AttributeName':'ForumName','AttributeType':'S'},\n",
        "                          {'AttributeName':'Subject','AttributeType':'S'}\n",
        "                          ],\n",
        "    ProvisionedThroughput={\n",
        "        'ReadCapacityUnits':5,'WriteCapacityUnits':5\n",
        "    }\n",
        ")"
      ],
      "metadata": {
        "colab": {
          "base_uri": "https://localhost:8080/"
        },
        "id": "U2sdUwxG7XtE",
        "outputId": "c9177f28-12cd-4333-b27f-2dee4efb97ab"
      },
      "execution_count": 24,
      "outputs": [
        {
          "output_type": "execute_result",
          "data": {
            "text/plain": [
              "{'ResponseMetadata': {'HTTPHeaders': {'connection': 'keep-alive',\n",
              "   'content-length': '580',\n",
              "   'content-type': 'application/x-amz-json-1.0',\n",
              "   'date': 'Tue, 24 May 2022 12:16:19 GMT',\n",
              "   'server': 'Server',\n",
              "   'x-amz-crc32': '3454782427',\n",
              "   'x-amzn-requestid': 'QJLHER7OGRSTOO6E8P7LLTADNRVV4KQNSO5AEMVJF66Q9ASUAAJG'},\n",
              "  'HTTPStatusCode': 200,\n",
              "  'RequestId': 'QJLHER7OGRSTOO6E8P7LLTADNRVV4KQNSO5AEMVJF66Q9ASUAAJG',\n",
              "  'RetryAttempts': 0},\n",
              " 'TableDescription': {'AttributeDefinitions': [{'AttributeName': 'ForumName',\n",
              "    'AttributeType': 'S'},\n",
              "   {'AttributeName': 'Subject', 'AttributeType': 'S'}],\n",
              "  'CreationDateTime': datetime.datetime(2022, 5, 24, 12, 16, 19, 602000, tzinfo=tzlocal()),\n",
              "  'ItemCount': 0,\n",
              "  'KeySchema': [{'AttributeName': 'ForumName', 'KeyType': 'HASH'},\n",
              "   {'AttributeName': 'Subject', 'KeyType': 'RANGE'}],\n",
              "  'ProvisionedThroughput': {'NumberOfDecreasesToday': 0,\n",
              "   'ReadCapacityUnits': 5,\n",
              "   'WriteCapacityUnits': 5},\n",
              "  'TableArn': 'arn:aws:dynamodb:us-east-1:130003587303:table/Thread',\n",
              "  'TableId': '12db65eb-06aa-4a3c-a7ec-2a2959b0f0c5',\n",
              "  'TableName': 'Thread',\n",
              "  'TableSizeBytes': 0,\n",
              "  'TableStatus': 'CREATING'}}"
            ]
          },
          "metadata": {},
          "execution_count": 24
        }
      ]
    },
    {
      "cell_type": "code",
      "source": [
        "dynamodb.describe_table(TableName='ProductCatalog')"
      ],
      "metadata": {
        "colab": {
          "base_uri": "https://localhost:8080/"
        },
        "id": "0rtNqwN3z2df",
        "outputId": "0fabb01f-0059-474c-f31a-55884722011e"
      },
      "execution_count": 17,
      "outputs": [
        {
          "output_type": "execute_result",
          "data": {
            "text/plain": [
              "{'ResponseMetadata': {'HTTPHeaders': {'connection': 'keep-alive',\n",
              "   'content-length': '475',\n",
              "   'content-type': 'application/x-amz-json-1.0',\n",
              "   'date': 'Wed, 25 May 2022 15:22:31 GMT',\n",
              "   'server': 'Server',\n",
              "   'x-amz-crc32': '1889345724',\n",
              "   'x-amzn-requestid': '6116Q4PRPSRP5SDIGE8HII8TGVVV4KQNSO5AEMVJF66Q9ASUAAJG'},\n",
              "  'HTTPStatusCode': 200,\n",
              "  'RequestId': '6116Q4PRPSRP5SDIGE8HII8TGVVV4KQNSO5AEMVJF66Q9ASUAAJG',\n",
              "  'RetryAttempts': 0},\n",
              " 'Table': {'AttributeDefinitions': [{'AttributeName': 'id',\n",
              "    'AttributeType': 'S'}],\n",
              "  'CreationDateTime': datetime.datetime(2022, 5, 24, 11, 52, 32, 752000, tzinfo=tzlocal()),\n",
              "  'ItemCount': 0,\n",
              "  'KeySchema': [{'AttributeName': 'id', 'KeyType': 'HASH'}],\n",
              "  'ProvisionedThroughput': {'NumberOfDecreasesToday': 0,\n",
              "   'ReadCapacityUnits': 5,\n",
              "   'WriteCapacityUnits': 5},\n",
              "  'TableArn': 'arn:aws:dynamodb:us-east-1:130003587303:table/ProductCatalog',\n",
              "  'TableId': 'b3c9b1f8-a3d4-41ef-a912-21306d8c63cc',\n",
              "  'TableName': 'ProductCatalog',\n",
              "  'TableSizeBytes': 0,\n",
              "  'TableStatus': 'ACTIVE'}}"
            ]
          },
          "metadata": {},
          "execution_count": 17
        }
      ]
    },
    {
      "cell_type": "code",
      "source": [
        "dynamodb.batch_write_item(RequestItems={\n",
        "    'ProductCatalog':[\n",
        "        {'PutRequest':{\n",
        "            'Item': {\"id\":{\"S\":\"101\"},\n",
        "                    \"Title\":{\"S\":\"Book 100 Title\"},\n",
        "                    \"ISBN\":{\"S\":\"111-11111\"},\n",
        "                    \"Authors\":{\"L\":[{\"S\":\"Author1\"}]},\n",
        "                    \"Price\":{\"N\":\"2\"},\n",
        "                    \"PageCount\":{\"N\":\"582\"},\n",
        "                    \"InPublication\":{\"BOOL\":True},\n",
        "                    \"ProductCategory\":{\"S\":\"Book\"}\n",
        "                    }\n",
        "                  }\n",
        "            },\n",
        "        {'PutRequest':{\n",
        "            'Item': {\"id\":{\"S\":\"102\"},\n",
        "                    \"Title\":{\"S\":\"Book 102 Title\"},\n",
        "                    \"ISBN\":{\"S\":\"111-11123\"},\n",
        "                    \"Authors\":{\"L\":[{\"S\":\"Author3\"},{\"S\":\"Author5\"}]},\n",
        "                    \"Price\":{\"N\":\"6\"},\n",
        "                    \"PageCount\":{\"N\":\"347\"},\n",
        "                    \"InPublication\":{\"BOOL\":True},\n",
        "                    \"ProductCategory\":{\"S\":\"Book\"}\n",
        "                    }\n",
        "                  }\n",
        "        },\n",
        "         {'PutRequest':{\n",
        "            'Item': {\"id\":{\"S\":\"106\"},\n",
        "                    \"Title\":{\"S\":\"Book 106 Title\"},\n",
        "                    \"ISBN\":{\"S\":\"111-11123323\"},\n",
        "                    \"Authors\":{\"L\":[{\"S\":\"Author1\"},{\"S\":\"Author4\"}]},\n",
        "                    \"Price\":{\"N\":\"5\"},\n",
        "                    \"PageCount\":{\"N\":\"447\"},\n",
        "                    \"InPublication\":{\"BOOL\":True},\n",
        "                    \"ProductCategory\":{\"S\":\"Book\"}\n",
        "                    }\n",
        "                  }\n",
        "        },\n",
        "        {'PutRequest':{\n",
        "            'Item':{'id':{'S':'202'},\n",
        "                    'Title':{'S':'21-Bike-202'},\n",
        "                    'Description':{'S':'202 Description'},\n",
        "                    'BycycleType':{'S':'Road'},\n",
        "                    'Brand':{'S':'Brand-Company-A'},\n",
        "                    'Price':{'N':'209'},\n",
        "                    'Color':{'L':[\n",
        "                                 {\"S\":\"Green\"},\n",
        "                                 {\"S\":\"Black\"} \n",
        "                            ]},\n",
        "                    'ProductCategory':{\"S\":\"Bycycle\"}\n",
        "                   }\n",
        "            \n",
        "          }\n",
        "        },\n",
        "        {'PutRequest':{\n",
        "            'Item':{'id':{'S':'204'},\n",
        "                    'Title':{'S':'21-Bike-204'},\n",
        "                    'Description':{'S':'242 Description'},\n",
        "                    'BycycleType':{'S':'Road'},\n",
        "                    'Brand':{'S':'Brand-Company-C'},\n",
        "                    'Price':{'N':'233'},\n",
        "                    'Color':{'L':[\n",
        "                                 {\"S\":\"Red\"},\n",
        "                                 {\"S\":\"Black\"} \n",
        "                            ]},\n",
        "                    'ProductCategory':{\"S\":\"Bycycle\"}\n",
        "                   }\n",
        "            \n",
        "          }\n",
        "        }\n",
        "\n",
        "    ]\n",
        "},ReturnConsumedCapacity=\"TOTAL\")"
      ],
      "metadata": {
        "colab": {
          "base_uri": "https://localhost:8080/"
        },
        "id": "AdYDHrkH_yAr",
        "outputId": "0435e461-a19f-4316-9e9d-ebf222a16d2d"
      },
      "execution_count": 18,
      "outputs": [
        {
          "output_type": "execute_result",
          "data": {
            "text/plain": [
              "{'ConsumedCapacity': [{'CapacityUnits': 5.0, 'TableName': 'ProductCatalog'}],\n",
              " 'ResponseMetadata': {'HTTPHeaders': {'connection': 'keep-alive',\n",
              "   'content-length': '95',\n",
              "   'content-type': 'application/x-amz-json-1.0',\n",
              "   'date': 'Wed, 25 May 2022 15:23:13 GMT',\n",
              "   'server': 'Server',\n",
              "   'x-amz-crc32': '450481147',\n",
              "   'x-amzn-requestid': '4L7470C3Q0P0BLS0A7NO2SFNPJVV4KQNSO5AEMVJF66Q9ASUAAJG'},\n",
              "  'HTTPStatusCode': 200,\n",
              "  'RequestId': '4L7470C3Q0P0BLS0A7NO2SFNPJVV4KQNSO5AEMVJF66Q9ASUAAJG',\n",
              "  'RetryAttempts': 0},\n",
              " 'UnprocessedItems': {}}"
            ]
          },
          "metadata": {},
          "execution_count": 18
        }
      ]
    },
    {
      "cell_type": "code",
      "source": [
        "dynamodb.get_item(TableName='ProductCatalog',Key={'id':{'S':'101'}})"
      ],
      "metadata": {
        "colab": {
          "base_uri": "https://localhost:8080/"
        },
        "id": "9XqfSGSlx-Y6",
        "outputId": "fec6b258-7e4e-4481-d343-ab5c1b95f4f1"
      },
      "execution_count": 19,
      "outputs": [
        {
          "output_type": "execute_result",
          "data": {
            "text/plain": [
              "{'Item': {'Authors': {'L': [{'S': 'Author1'}]},\n",
              "  'ISBN': {'S': '111-11111'},\n",
              "  'InPublication': {'BOOL': True},\n",
              "  'PageCount': {'N': '582'},\n",
              "  'Price': {'N': '2'},\n",
              "  'ProductCategory': {'S': 'Book'},\n",
              "  'Title': {'S': 'Book 100 Title'},\n",
              "  'id': {'S': '101'}},\n",
              " 'ResponseMetadata': {'HTTPHeaders': {'connection': 'keep-alive',\n",
              "   'content-length': '220',\n",
              "   'content-type': 'application/x-amz-json-1.0',\n",
              "   'date': 'Wed, 25 May 2022 15:27:47 GMT',\n",
              "   'server': 'Server',\n",
              "   'x-amz-crc32': '3360869322',\n",
              "   'x-amzn-requestid': '7QQVISN3H2KHCCOORRVMHU3VK3VV4KQNSO5AEMVJF66Q9ASUAAJG'},\n",
              "  'HTTPStatusCode': 200,\n",
              "  'RequestId': '7QQVISN3H2KHCCOORRVMHU3VK3VV4KQNSO5AEMVJF66Q9ASUAAJG',\n",
              "  'RetryAttempts': 0}}"
            ]
          },
          "metadata": {},
          "execution_count": 19
        }
      ]
    },
    {
      "cell_type": "code",
      "source": [
        "dynamodb.scan(TableName='ProductCatalog',\n",
        "              ScanFilter = {'ProductCategory':{\n",
        "                                      'AttributeValueList':[{'S':'Book'}],\n",
        "                                      'ComparisonOperator':'EQ'\n",
        "                                      }},\n",
        "              Limit=3)"
      ],
      "metadata": {
        "colab": {
          "base_uri": "https://localhost:8080/"
        },
        "id": "XKPbj3RD1MIO",
        "outputId": "e67cc0a8-59af-4886-e8ed-f8b1f072d7f1"
      },
      "execution_count": 22,
      "outputs": [
        {
          "output_type": "execute_result",
          "data": {
            "text/plain": [
              "{'Count': 2,\n",
              " 'Items': [{'Authors': {'L': [{'S': 'Author3'}, {'S': 'Author5'}]},\n",
              "   'ISBN': {'S': '111-11123'},\n",
              "   'InPublication': {'BOOL': True},\n",
              "   'PageCount': {'N': '347'},\n",
              "   'Price': {'N': '6'},\n",
              "   'ProductCategory': {'S': 'Book'},\n",
              "   'Title': {'S': 'Book 102 Title'},\n",
              "   'id': {'S': '102'}},\n",
              "  {'Authors': {'L': [{'S': 'Author1'}, {'S': 'Author4'}]},\n",
              "   'ISBN': {'S': '111-11123323'},\n",
              "   'InPublication': {'BOOL': True},\n",
              "   'PageCount': {'N': '447'},\n",
              "   'Price': {'N': '5'},\n",
              "   'ProductCategory': {'S': 'Book'},\n",
              "   'Title': {'S': 'Book 106 Title'},\n",
              "   'id': {'S': '106'}}],\n",
              " 'LastEvaluatedKey': {'id': {'S': '106'}},\n",
              " 'ResponseMetadata': {'HTTPHeaders': {'connection': 'keep-alive',\n",
              "   'content-length': '535',\n",
              "   'content-type': 'application/x-amz-json-1.0',\n",
              "   'date': 'Wed, 25 May 2022 15:35:26 GMT',\n",
              "   'server': 'Server',\n",
              "   'x-amz-crc32': '3485579626',\n",
              "   'x-amzn-requestid': 'JHA2P70TJ9EVR3G92S29THS5OVVV4KQNSO5AEMVJF66Q9ASUAAJG'},\n",
              "  'HTTPStatusCode': 200,\n",
              "  'RequestId': 'JHA2P70TJ9EVR3G92S29THS5OVVV4KQNSO5AEMVJF66Q9ASUAAJG',\n",
              "  'RetryAttempts': 0},\n",
              " 'ScannedCount': 3}"
            ]
          },
          "metadata": {},
          "execution_count": 22
        }
      ]
    },
    {
      "cell_type": "code",
      "source": [
        ""
      ],
      "metadata": {
        "id": "4xK4TYu_1jjw"
      },
      "execution_count": null,
      "outputs": []
    }
  ]
}